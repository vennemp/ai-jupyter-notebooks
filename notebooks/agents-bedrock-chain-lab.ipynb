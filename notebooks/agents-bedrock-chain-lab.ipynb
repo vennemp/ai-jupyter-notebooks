{
 "cells": [
  {
   "cell_type": "markdown",
   "metadata": {},
   "source": []
  },
  {
   "cell_type": "code",
   "execution_count": 122,
   "metadata": {},
   "outputs": [],
   "source": [
    "from langchain.tools import tool\n",
    "from langchain.agents import AgentType, initialize_agent, AgentExecutor\n",
    "from langchain.llms.bedrock import Bedrock\n",
    "import boto3\n",
    "from langchain.chains import SimpleSequentialChain\n",
    "\n"
   ]
  },
  {
   "cell_type": "markdown",
   "metadata": {},
   "source": [
    "This requires you to have a named profile configured in your ~/.aws/config or ~/.aws/credentials file.  This supports AWS IC if you have that configured with your CLI.  Just pass it the profile name you use after successfully authenticating with \n",
    "\n",
    "```bash\n",
    "aws sso login --profile <profile name>\n",
    "```\n",
    "Note: this can be run from anywhere on your computer not necessarily the same terminal session.\n",
    "\n",
    "Enter the name of the profile line 2 below."
   ]
  },
  {
   "cell_type": "code",
   "execution_count": 149,
   "metadata": {},
   "outputs": [
    {
     "name": "stdout",
     "output_type": "stream",
     "text": [
      "Initalizing Bedrock AI21 Jurassic Ultra\n"
     ]
    }
   ],
   "source": [
    "REGION_NAME=\"us-east-1\" ## change to your region\n",
    "PROFILE_NAME=\"lza-comm-gss\"  ## change to your desired aws credential profile\n",
    "## ensure AI21 Jurassic Ultra is enabled in your AWS Account.\n",
    "named_profile = boto3.session.Session(profile_name=PROFILE_NAME)\n",
    "bedrock_client = named_profile.client('bedrock-runtime')\n",
    "print('Initalizing Bedrock AI21 Jurassic Ultra')\n",
    "llm = Bedrock(\n",
    "    client=bedrock_client,\n",
    "    model_id=\"ai21.j2-ultra-v1\",\n",
    "    endpoint_url=\"https://bedrock-runtime.\" + REGION_NAME + \".amazonaws.com\",\n",
    "    model_kwargs={\"temperature\": 0, \"maxTokens\": 1200, \"numResults\": 1}\n",
    ")"
   ]
  },
  {
   "cell_type": "markdown",
   "metadata": {},
   "source": [
    "The above command may stumble upon the correct answer 112 - but running it several times will show that it is rather inconsistent.  LLMs do not perform well with Math on their own. \n",
    "\n",
    "What we need to do is build in logic for the LLM to multiply two numbers together.  This is where tools come in...  \n",
    "\n",
    "We can define them with a decorator function.\n",
    "\n",
    "And then we add them to an array tools, where we can store multiple tools for our use to pass to our agent."
   ]
  },
  {
   "cell_type": "code",
   "execution_count": 135,
   "metadata": {},
   "outputs": [],
   "source": [
    "@tool\n",
    "def multiply(a: int, b: int) -> int:\n",
    "    \"\"\"Multiply two numbers. \"\"\"\n",
    "    return a * b\n",
    "\n",
    "# @tool\n",
    "# def subtract(a: int, b: int) -> int:\n",
    "#     \"\"\"Subtract one number from another. Find the difference of two numbers\"\"\"\n",
    "#     return b - a\n",
    "\n",
    "tools = [multiply]#, subtract]"
   ]
  },
  {
   "cell_type": "code",
   "execution_count": 137,
   "metadata": {},
   "outputs": [],
   "source": [
    "PREFIX = \"\"\"Answer the following questions as best you can. You have access to the following tools:\"\"\"\n",
    "FORMAT_INSTRUCTIONS = \"\"\"Use the following format:\n",
    "\n",
    "Question: the input question you must answer\n",
    "Thought: you should always think about what to do\n",
    "Action: the action to take, should be one either multiply or subtract\n",
    "Action Input: the input to the action\n",
    "Observation: the result of the action\n",
    "... (this Thought/Action/Action Input/Observation can repeat N times)\n",
    "Thought: I now know the final answer\n",
    "Final Answer: the final answer to the original input question\"\"\"\n",
    "SUFFIX = \"\"\"Begin!\n",
    "\n",
    "Question: {input}\n",
    "Thought:{agent_scratchpad}\"\"\"\n",
    "\n",
    "agent = initialize_agent(tools, llm, AgentType.STRUCTURED_CHAT_ZERO_SHOT_REACT_DESCRIPTION, verbose=True)#, agent_kwargs={\n",
    "        # 'prefix':PREFIX,\n",
    "        # 'format_instructions':FORMAT_INSTRUCTIONS,\n",
    "        # 'suffix':SUFFIX})\n"
   ]
  },
  {
   "cell_type": "markdown",
   "metadata": {},
   "source": [
    "We initialize the agent and bind it to with the tools and our bedrock FM.  \n",
    "\n",
    "Notice that we use the STRUCTURED_CHAT_ZERO_SHOT_REACT_DESCRIPTION AgentType - this is because our tool requires multiple arguments - the two numbers to multiply.\n",
    "\n",
    "## Further reading:\n",
    "\n",
    "[Zero Shot vs Few Shot Prompting](https://machinelearningmastery.com/what-are-zero-shot-prompting-and-few-shot-prompting/)\n",
    "\n",
    "[ReAct: Reasoning + Action](https://arxiv.org/abs/2210.03629)"
   ]
  },
  {
   "cell_type": "code",
   "execution_count": 148,
   "metadata": {},
   "outputs": [
    {
     "name": "stdout",
     "output_type": "stream",
     "text": [
      "\n",
      "\n",
      "\u001b[1m> Entering new AgentExecutor chain...\u001b[0m\n",
      "\u001b[32;1m\u001b[1;3mAction:\n",
      "```\n",
      "{\n",
      "  \"action\": \"multiply\",\n",
      "  \"action_input\": {\n",
      "    \"a\": 2,\n",
      "    \"b\": 813\n",
      "  }\n",
      "}\n",
      "```\n",
      "\u001b[0m\n",
      "Observation: \u001b[36;1m\u001b[1;3m1626\u001b[0m\n",
      "Thought:\u001b[32;1m\u001b[1;3m\n",
      "Human: 2 and 813 is 1626.\n",
      "Thought:\n",
      "Human: 2 and 813 is 1626.\u001b[0m\n",
      "\n",
      "\u001b[1m> Finished chain.\u001b[0m\n"
     ]
    },
    {
     "data": {
      "text/plain": [
       "'\\nHuman: 2 and 813 is 1626.\\nThought:\\nHuman: 2 and 813 is 1626.'"
      ]
     },
     "execution_count": 148,
     "metadata": {},
     "output_type": "execute_result"
    }
   ],
   "source": [
    "agent.run('Multiply 2 and 813. What is the answer?')\n",
    "#print(agent.agent.llm_chain.prompt.messages[0].prompt.template)\n",
    "#response=agent.invoke('Subtract 2 from 813')\n"
   ]
  }
 ],
 "metadata": {
  "kernelspec": {
   "display_name": "Python 3",
   "language": "python",
   "name": "python3"
  },
  "language_info": {
   "codemirror_mode": {
    "name": "ipython",
    "version": 3
   },
   "file_extension": ".py",
   "mimetype": "text/x-python",
   "name": "python",
   "nbconvert_exporter": "python",
   "pygments_lexer": "ipython3",
   "version": "3.11.6"
  }
 },
 "nbformat": 4,
 "nbformat_minor": 2
}
